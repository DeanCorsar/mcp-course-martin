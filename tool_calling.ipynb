{
 "cells": [
  {
   "cell_type": "code",
   "execution_count": 29,
   "metadata": {},
   "outputs": [],
   "source": [
    "# %% Import necessary libraries\n",
    "import os\n",
    "from typing import Any, Dict\n",
    "\n",
    "import google.generativeai as genai\n",
    "import requests\n",
    "from dotenv import load_dotenv\n",
    "\n",
    "# %% Load environment variables\n",
    "load_dotenv()\n",
    "api_key = os.getenv(\"GEMINI_API_KEY\")\n",
    "if not api_key:\n",
    "    raise ValueError(\"GEMINI_API_KEY not found in .env file\")\n",
    "\n",
    "# %% Configure Gemini\n",
    "genai.configure(api_key=api_key)\n",
    "model = genai.GenerativeModel(\"gemini-2.0-flash\")\n"
   ]
  },
  {
   "cell_type": "code",
   "execution_count": 30,
   "metadata": {},
   "outputs": [
    {
     "name": "stdout",
     "output_type": "stream",
     "text": [
      "Unfortunately, I cannot give you the exact, real-time price of Bitcoin. Cryptocurrency prices are incredibly volatile and change constantly, even within seconds.\n",
      "\n",
      "However, I can tell you how to find the current price:\n",
      "\n",
      "*   **Major Cryptocurrency Exchanges:** Check reputable exchanges like Coinbase, Binance, Kraken, or Gemini. They will have the most up-to-date prices.\n",
      "*   **Financial Websites:** Reputable financial websites like Google Finance, Yahoo Finance, Bloomberg, or MarketWatch will have cryptocurrency price trackers.\n",
      "*   **Cryptocurrency Tracking Websites:** Websites specifically dedicated to tracking cryptocurrencies, such as CoinMarketCap or CoinGecko, are excellent resources.\n",
      "\n",
      "When you check the price, make sure you are looking at the correct currency pair (e.g., BTC/USD, BTC/EUR).\n"
     ]
    }
   ],
   "source": [
    "PROMPT = \"What is the current price of Bitcoin?\"\n",
    "chat = model.start_chat()\n",
    "response = chat.send_message(PROMPT)\n",
    "print(response.text)"
   ]
  },
  {
   "cell_type": "code",
   "execution_count": 31,
   "metadata": {},
   "outputs": [
    {
     "name": "stdout",
     "output_type": "stream",
     "text": [
      "response:\n",
      "GenerateContentResponse(\n",
      "    done=True,\n",
      "    iterator=None,\n",
      "    result=protos.GenerateContentResponse({\n",
      "      \"candidates\": [\n",
      "        {\n",
      "          \"content\": {\n",
      "            \"parts\": [\n",
      "              {\n",
      "                \"text\": \"Unfortunately, I cannot give you the exact, real-time price of Bitcoin. Cryptocurrency prices are incredibly volatile and change constantly, even within seconds.\\n\\nHowever, I can tell you how to find the current price:\\n\\n*   **Major Cryptocurrency Exchanges:** Check reputable exchanges like Coinbase, Binance, Kraken, or Gemini. They will have the most up-to-date prices.\\n*   **Financial Websites:** Reputable financial websites like Google Finance, Yahoo Finance, Bloomberg, or MarketWatch will have cryptocurrency price trackers.\\n*   **Cryptocurrency Tracking Websites:** Websites specifically dedicated to tracking cryptocurrencies, such as CoinMarketCap or CoinGecko, are excellent resources.\\n\\nWhen you check the price, make sure you are looking at the correct currency pair (e.g., BTC/USD, BTC/EUR).\"\n",
      "              }\n",
      "            ],\n",
      "            \"role\": \"model\"\n",
      "          },\n",
      "          \"finish_reason\": \"STOP\",\n",
      "          \"avg_logprobs\": -0.22858119155421402\n",
      "        }\n",
      "      ],\n",
      "      \"usage_metadata\": {\n",
      "        \"prompt_token_count\": 8,\n",
      "        \"candidates_token_count\": 165,\n",
      "        \"total_token_count\": 173\n",
      "      },\n",
      "      \"model_version\": \"gemini-2.0-flash\"\n",
      "    }),\n",
      ")\n"
     ]
    }
   ],
   "source": [
    "print(response)"
   ]
  },
  {
   "cell_type": "code",
   "execution_count": 50,
   "metadata": {},
   "outputs": [],
   "source": [
    "\n",
    "# Define the function\n",
    "def get_crypto_price(symbol: str) -> Dict[str, Any]:\n",
    "    \"\"\"\n",
    "    Get the current price of a cryptocurrency from Binance API\n",
    "    \"\"\"\n",
    "    url = f\"https://api.binance.com/api/v3/ticker/price?symbol={symbol}\"\n",
    "    response = requests.get(url)\n",
    "    data = response.json()\n",
    "    print(url)\n",
    "    print(\"Response from Binance:\", response)\n",
    "    price = float(data[\"price\"])\n",
    "    result = {\"price\": f\"{price}\"}\n",
    "    return result\n",
    "    \n",
    "tools = [\n",
    "    {\n",
    "        \"function_declarations\": [\n",
    "            {\n",
    "                \"name\": \"get_crypto_price\",\n",
    "                \"description\": \"Get cryptocurrency price in USDT from Binance\",\n",
    "                \"parameters\": {\n",
    "                    \"type\": \"object\",  # Note: lowercase \"object\", not \"OBJECT\"\n",
    "                    \"properties\": {\n",
    "                        \"symbol\": {\n",
    "                            \"type\": \"string\",\n",
    "                            \"description\": \"The cryptocurrency trading pair symbol (e.g., BTCUSDT, ETHUSDT). The symbol for Bitcoin is BTCUSDT. The symbol for Ethereum is ETHUSDT.\"\n",
    "                        }\n",
    "                    },\n",
    "                    \"required\": [\"symbol\"]\n",
    "                }\n",
    "            }\n",
    "        ]\n",
    "    }\n",
    "]"
   ]
  },
  {
   "cell_type": "code",
   "execution_count": 57,
   "metadata": {},
   "outputs": [
    {
     "name": "stdout",
     "output_type": "stream",
     "text": [
      "response:\n",
      "GenerateContentResponse(\n",
      "    done=True,\n",
      "    iterator=None,\n",
      "    result=protos.GenerateContentResponse({\n",
      "      \"candidates\": [\n",
      "        {\n",
      "          \"content\": {\n",
      "            \"parts\": [\n",
      "              {\n",
      "                \"function_call\": {\n",
      "                  \"name\": \"get_crypto_price\",\n",
      "                  \"args\": {\n",
      "                    \"symbol\": \"BTCUSDT\"\n",
      "                  }\n",
      "                }\n",
      "              }\n",
      "            ],\n",
      "            \"role\": \"model\"\n",
      "          },\n",
      "          \"finish_reason\": \"STOP\",\n",
      "          \"avg_logprobs\": -0.040996186435222626\n",
      "        }\n",
      "      ],\n",
      "      \"usage_metadata\": {\n",
      "        \"prompt_token_count\": 54,\n",
      "        \"candidates_token_count\": 8,\n",
      "        \"total_token_count\": 62\n",
      "      },\n",
      "      \"model_version\": \"gemini-2.0-flash\"\n",
      "    }),\n",
      ")\n"
     ]
    }
   ],
   "source": [
    "PROMPT = \"What is the current price of Bitcoin?\"\n",
    "chat = model.start_chat()\n",
    "response = chat.send_message(PROMPT, tools=tools)\n",
    "print(response)\n"
   ]
  },
  {
   "cell_type": "code",
   "execution_count": 61,
   "metadata": {},
   "outputs": [
    {
     "name": "stdout",
     "output_type": "stream",
     "text": [
      "https://api.binance.com/api/v3/ticker/price?symbol=BTCUSDT\n",
      "Response from Binance: <Response [200]>\n",
      "{'price': '81820.0'}\n",
      "get_crypto_price tool result: 81820.0\n"
     ]
    }
   ],
   "source": [
    "price = get_crypto_price(\"BTCUSDT\")\n",
    "print(price)\n",
    "\n",
    "msg = f\"get_crypto_price tool result: {price['price']}\"\n",
    "print(msg)"
   ]
  },
  {
   "cell_type": "code",
   "execution_count": 62,
   "metadata": {},
   "outputs": [
    {
     "name": "stdout",
     "output_type": "stream",
     "text": [
      "response:\n",
      "GenerateContentResponse(\n",
      "    done=True,\n",
      "    iterator=None,\n",
      "    result=protos.GenerateContentResponse({\n",
      "      \"candidates\": [\n",
      "        {\n",
      "          \"content\": {\n",
      "            \"parts\": [\n",
      "              {\n",
      "                \"text\": \"Okay, the current Bitcoin price is $81820.0.\\n\"\n",
      "              }\n",
      "            ],\n",
      "            \"role\": \"model\"\n",
      "          },\n",
      "          \"finish_reason\": \"STOP\",\n",
      "          \"avg_logprobs\": -0.01965915455537684\n",
      "        }\n",
      "      ],\n",
      "      \"usage_metadata\": {\n",
      "        \"prompt_token_count\": 54,\n",
      "        \"candidates_token_count\": 17,\n",
      "        \"total_token_count\": 71\n",
      "      },\n",
      "      \"model_version\": \"gemini-2.0-flash\"\n",
      "    }),\n",
      ")\n"
     ]
    }
   ],
   "source": [
    "final_response = chat.send_message(msg)\n",
    "print(final_response)"
   ]
  },
  {
   "cell_type": "code",
   "execution_count": 63,
   "metadata": {},
   "outputs": [
    {
     "name": "stdout",
     "output_type": "stream",
     "text": [
      "Okay, the current Bitcoin price is $81820.0.\n",
      "\n"
     ]
    }
   ],
   "source": [
    "print(final_response.text)"
   ]
  },
  {
   "cell_type": "code",
   "execution_count": null,
   "metadata": {},
   "outputs": [],
   "source": []
  },
  {
   "cell_type": "markdown",
   "metadata": {},
   "source": []
  }
 ],
 "metadata": {
  "kernelspec": {
   "display_name": ".venv",
   "language": "python",
   "name": "python3"
  },
  "language_info": {
   "codemirror_mode": {
    "name": "ipython",
    "version": 3
   },
   "file_extension": ".py",
   "mimetype": "text/x-python",
   "name": "python",
   "nbconvert_exporter": "python",
   "pygments_lexer": "ipython3",
   "version": "3.12.9"
  }
 },
 "nbformat": 4,
 "nbformat_minor": 2
}
